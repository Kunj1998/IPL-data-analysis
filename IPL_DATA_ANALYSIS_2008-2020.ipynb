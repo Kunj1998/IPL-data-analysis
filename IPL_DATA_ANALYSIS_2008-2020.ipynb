{
 "cells": [
  {
   "cell_type": "code",
   "execution_count": 20,
   "id": "12d6a705",
   "metadata": {},
   "outputs": [],
   "source": [
    "import pandas as pd\n",
    "import seaborn as sns\n",
    "import matplotlib.pyplot as plt"
   ]
  },
  {
   "cell_type": "code",
   "execution_count": 3,
   "id": "a43c7b35",
   "metadata": {},
   "outputs": [
    {
     "data": {
      "text/html": [
       "<div>\n",
       "<style scoped>\n",
       "    .dataframe tbody tr th:only-of-type {\n",
       "        vertical-align: middle;\n",
       "    }\n",
       "\n",
       "    .dataframe tbody tr th {\n",
       "        vertical-align: top;\n",
       "    }\n",
       "\n",
       "    .dataframe thead th {\n",
       "        text-align: right;\n",
       "    }\n",
       "</style>\n",
       "<table border=\"1\" class=\"dataframe\">\n",
       "  <thead>\n",
       "    <tr style=\"text-align: right;\">\n",
       "      <th></th>\n",
       "      <th>match_id</th>\n",
       "      <th>season</th>\n",
       "      <th>start_date</th>\n",
       "      <th>venue</th>\n",
       "      <th>innings</th>\n",
       "      <th>ball</th>\n",
       "      <th>batting_team</th>\n",
       "      <th>bowling_team</th>\n",
       "      <th>striker</th>\n",
       "      <th>non_striker</th>\n",
       "      <th>...</th>\n",
       "      <th>runs_off_bat</th>\n",
       "      <th>extras</th>\n",
       "      <th>wides</th>\n",
       "      <th>noballs</th>\n",
       "      <th>byes</th>\n",
       "      <th>legbyes</th>\n",
       "      <th>wicket_type</th>\n",
       "      <th>player_dismissed</th>\n",
       "      <th>run</th>\n",
       "      <th>over</th>\n",
       "    </tr>\n",
       "  </thead>\n",
       "  <tbody>\n",
       "    <tr>\n",
       "      <th>0</th>\n",
       "      <td>335982</td>\n",
       "      <td>2008</td>\n",
       "      <td>2008-04-18</td>\n",
       "      <td>M.Chinnaswamy Stadium</td>\n",
       "      <td>1</td>\n",
       "      <td>0.1</td>\n",
       "      <td>Kolkata Knight Riders</td>\n",
       "      <td>Royal Challengers Bangalore</td>\n",
       "      <td>SC Ganguly</td>\n",
       "      <td>BB McCullum</td>\n",
       "      <td>...</td>\n",
       "      <td>0</td>\n",
       "      <td>1</td>\n",
       "      <td>0.0</td>\n",
       "      <td>0.0</td>\n",
       "      <td>0.0</td>\n",
       "      <td>1.0</td>\n",
       "      <td></td>\n",
       "      <td></td>\n",
       "      <td>1</td>\n",
       "      <td>0</td>\n",
       "    </tr>\n",
       "    <tr>\n",
       "      <th>1</th>\n",
       "      <td>335982</td>\n",
       "      <td>2008</td>\n",
       "      <td>2008-04-18</td>\n",
       "      <td>M.Chinnaswamy Stadium</td>\n",
       "      <td>1</td>\n",
       "      <td>0.2</td>\n",
       "      <td>Kolkata Knight Riders</td>\n",
       "      <td>Royal Challengers Bangalore</td>\n",
       "      <td>BB McCullum</td>\n",
       "      <td>SC Ganguly</td>\n",
       "      <td>...</td>\n",
       "      <td>0</td>\n",
       "      <td>0</td>\n",
       "      <td>0.0</td>\n",
       "      <td>0.0</td>\n",
       "      <td>0.0</td>\n",
       "      <td>0.0</td>\n",
       "      <td></td>\n",
       "      <td></td>\n",
       "      <td>0</td>\n",
       "      <td>0</td>\n",
       "    </tr>\n",
       "    <tr>\n",
       "      <th>2</th>\n",
       "      <td>335982</td>\n",
       "      <td>2008</td>\n",
       "      <td>2008-04-18</td>\n",
       "      <td>M.Chinnaswamy Stadium</td>\n",
       "      <td>1</td>\n",
       "      <td>0.3</td>\n",
       "      <td>Kolkata Knight Riders</td>\n",
       "      <td>Royal Challengers Bangalore</td>\n",
       "      <td>BB McCullum</td>\n",
       "      <td>SC Ganguly</td>\n",
       "      <td>...</td>\n",
       "      <td>0</td>\n",
       "      <td>1</td>\n",
       "      <td>1.0</td>\n",
       "      <td>0.0</td>\n",
       "      <td>0.0</td>\n",
       "      <td>0.0</td>\n",
       "      <td></td>\n",
       "      <td></td>\n",
       "      <td>1</td>\n",
       "      <td>0</td>\n",
       "    </tr>\n",
       "    <tr>\n",
       "      <th>3</th>\n",
       "      <td>335982</td>\n",
       "      <td>2008</td>\n",
       "      <td>2008-04-18</td>\n",
       "      <td>M.Chinnaswamy Stadium</td>\n",
       "      <td>1</td>\n",
       "      <td>0.4</td>\n",
       "      <td>Kolkata Knight Riders</td>\n",
       "      <td>Royal Challengers Bangalore</td>\n",
       "      <td>BB McCullum</td>\n",
       "      <td>SC Ganguly</td>\n",
       "      <td>...</td>\n",
       "      <td>0</td>\n",
       "      <td>0</td>\n",
       "      <td>0.0</td>\n",
       "      <td>0.0</td>\n",
       "      <td>0.0</td>\n",
       "      <td>0.0</td>\n",
       "      <td></td>\n",
       "      <td></td>\n",
       "      <td>0</td>\n",
       "      <td>0</td>\n",
       "    </tr>\n",
       "    <tr>\n",
       "      <th>4</th>\n",
       "      <td>335982</td>\n",
       "      <td>2008</td>\n",
       "      <td>2008-04-18</td>\n",
       "      <td>M.Chinnaswamy Stadium</td>\n",
       "      <td>1</td>\n",
       "      <td>0.5</td>\n",
       "      <td>Kolkata Knight Riders</td>\n",
       "      <td>Royal Challengers Bangalore</td>\n",
       "      <td>BB McCullum</td>\n",
       "      <td>SC Ganguly</td>\n",
       "      <td>...</td>\n",
       "      <td>0</td>\n",
       "      <td>0</td>\n",
       "      <td>0.0</td>\n",
       "      <td>0.0</td>\n",
       "      <td>0.0</td>\n",
       "      <td>0.0</td>\n",
       "      <td></td>\n",
       "      <td></td>\n",
       "      <td>0</td>\n",
       "      <td>0</td>\n",
       "    </tr>\n",
       "    <tr>\n",
       "      <th>...</th>\n",
       "      <td>...</td>\n",
       "      <td>...</td>\n",
       "      <td>...</td>\n",
       "      <td>...</td>\n",
       "      <td>...</td>\n",
       "      <td>...</td>\n",
       "      <td>...</td>\n",
       "      <td>...</td>\n",
       "      <td>...</td>\n",
       "      <td>...</td>\n",
       "      <td>...</td>\n",
       "      <td>...</td>\n",
       "      <td>...</td>\n",
       "      <td>...</td>\n",
       "      <td>...</td>\n",
       "      <td>...</td>\n",
       "      <td>...</td>\n",
       "      <td>...</td>\n",
       "      <td>...</td>\n",
       "      <td>...</td>\n",
       "      <td>...</td>\n",
       "    </tr>\n",
       "    <tr>\n",
       "      <th>194349</th>\n",
       "      <td>1254060</td>\n",
       "      <td>2021</td>\n",
       "      <td>2021-04-11</td>\n",
       "      <td>MA Chidambaram Stadium, Chepauk, Chennai</td>\n",
       "      <td>2</td>\n",
       "      <td>19.2</td>\n",
       "      <td>Sunrisers Hyderabad</td>\n",
       "      <td>Kolkata Knight Riders</td>\n",
       "      <td>Abdul Samad</td>\n",
       "      <td>MK Pandey</td>\n",
       "      <td>...</td>\n",
       "      <td>0</td>\n",
       "      <td>0</td>\n",
       "      <td>0.0</td>\n",
       "      <td>0.0</td>\n",
       "      <td>0.0</td>\n",
       "      <td>0.0</td>\n",
       "      <td></td>\n",
       "      <td></td>\n",
       "      <td>0</td>\n",
       "      <td>19</td>\n",
       "    </tr>\n",
       "    <tr>\n",
       "      <th>194350</th>\n",
       "      <td>1254060</td>\n",
       "      <td>2021</td>\n",
       "      <td>2021-04-11</td>\n",
       "      <td>MA Chidambaram Stadium, Chepauk, Chennai</td>\n",
       "      <td>2</td>\n",
       "      <td>19.3</td>\n",
       "      <td>Sunrisers Hyderabad</td>\n",
       "      <td>Kolkata Knight Riders</td>\n",
       "      <td>Abdul Samad</td>\n",
       "      <td>MK Pandey</td>\n",
       "      <td>...</td>\n",
       "      <td>1</td>\n",
       "      <td>0</td>\n",
       "      <td>0.0</td>\n",
       "      <td>0.0</td>\n",
       "      <td>0.0</td>\n",
       "      <td>0.0</td>\n",
       "      <td></td>\n",
       "      <td></td>\n",
       "      <td>1</td>\n",
       "      <td>19</td>\n",
       "    </tr>\n",
       "    <tr>\n",
       "      <th>194351</th>\n",
       "      <td>1254060</td>\n",
       "      <td>2021</td>\n",
       "      <td>2021-04-11</td>\n",
       "      <td>MA Chidambaram Stadium, Chepauk, Chennai</td>\n",
       "      <td>2</td>\n",
       "      <td>19.4</td>\n",
       "      <td>Sunrisers Hyderabad</td>\n",
       "      <td>Kolkata Knight Riders</td>\n",
       "      <td>MK Pandey</td>\n",
       "      <td>Abdul Samad</td>\n",
       "      <td>...</td>\n",
       "      <td>1</td>\n",
       "      <td>0</td>\n",
       "      <td>0.0</td>\n",
       "      <td>0.0</td>\n",
       "      <td>0.0</td>\n",
       "      <td>0.0</td>\n",
       "      <td></td>\n",
       "      <td></td>\n",
       "      <td>1</td>\n",
       "      <td>19</td>\n",
       "    </tr>\n",
       "    <tr>\n",
       "      <th>194352</th>\n",
       "      <td>1254060</td>\n",
       "      <td>2021</td>\n",
       "      <td>2021-04-11</td>\n",
       "      <td>MA Chidambaram Stadium, Chepauk, Chennai</td>\n",
       "      <td>2</td>\n",
       "      <td>19.5</td>\n",
       "      <td>Sunrisers Hyderabad</td>\n",
       "      <td>Kolkata Knight Riders</td>\n",
       "      <td>Abdul Samad</td>\n",
       "      <td>MK Pandey</td>\n",
       "      <td>...</td>\n",
       "      <td>1</td>\n",
       "      <td>0</td>\n",
       "      <td>0.0</td>\n",
       "      <td>0.0</td>\n",
       "      <td>0.0</td>\n",
       "      <td>0.0</td>\n",
       "      <td></td>\n",
       "      <td></td>\n",
       "      <td>1</td>\n",
       "      <td>19</td>\n",
       "    </tr>\n",
       "    <tr>\n",
       "      <th>194353</th>\n",
       "      <td>1254060</td>\n",
       "      <td>2021</td>\n",
       "      <td>2021-04-11</td>\n",
       "      <td>MA Chidambaram Stadium, Chepauk, Chennai</td>\n",
       "      <td>2</td>\n",
       "      <td>19.6</td>\n",
       "      <td>Sunrisers Hyderabad</td>\n",
       "      <td>Kolkata Knight Riders</td>\n",
       "      <td>MK Pandey</td>\n",
       "      <td>Abdul Samad</td>\n",
       "      <td>...</td>\n",
       "      <td>6</td>\n",
       "      <td>0</td>\n",
       "      <td>0.0</td>\n",
       "      <td>0.0</td>\n",
       "      <td>0.0</td>\n",
       "      <td>0.0</td>\n",
       "      <td></td>\n",
       "      <td></td>\n",
       "      <td>6</td>\n",
       "      <td>19</td>\n",
       "    </tr>\n",
       "  </tbody>\n",
       "</table>\n",
       "<p>194354 rows × 21 columns</p>\n",
       "</div>"
      ],
      "text/plain": [
       "        match_id  season  start_date  \\\n",
       "0         335982    2008  2008-04-18   \n",
       "1         335982    2008  2008-04-18   \n",
       "2         335982    2008  2008-04-18   \n",
       "3         335982    2008  2008-04-18   \n",
       "4         335982    2008  2008-04-18   \n",
       "...          ...     ...         ...   \n",
       "194349   1254060    2021  2021-04-11   \n",
       "194350   1254060    2021  2021-04-11   \n",
       "194351   1254060    2021  2021-04-11   \n",
       "194352   1254060    2021  2021-04-11   \n",
       "194353   1254060    2021  2021-04-11   \n",
       "\n",
       "                                           venue  innings  ball  \\\n",
       "0                          M.Chinnaswamy Stadium        1   0.1   \n",
       "1                          M.Chinnaswamy Stadium        1   0.2   \n",
       "2                          M.Chinnaswamy Stadium        1   0.3   \n",
       "3                          M.Chinnaswamy Stadium        1   0.4   \n",
       "4                          M.Chinnaswamy Stadium        1   0.5   \n",
       "...                                          ...      ...   ...   \n",
       "194349  MA Chidambaram Stadium, Chepauk, Chennai        2  19.2   \n",
       "194350  MA Chidambaram Stadium, Chepauk, Chennai        2  19.3   \n",
       "194351  MA Chidambaram Stadium, Chepauk, Chennai        2  19.4   \n",
       "194352  MA Chidambaram Stadium, Chepauk, Chennai        2  19.5   \n",
       "194353  MA Chidambaram Stadium, Chepauk, Chennai        2  19.6   \n",
       "\n",
       "                 batting_team                 bowling_team      striker  \\\n",
       "0       Kolkata Knight Riders  Royal Challengers Bangalore   SC Ganguly   \n",
       "1       Kolkata Knight Riders  Royal Challengers Bangalore  BB McCullum   \n",
       "2       Kolkata Knight Riders  Royal Challengers Bangalore  BB McCullum   \n",
       "3       Kolkata Knight Riders  Royal Challengers Bangalore  BB McCullum   \n",
       "4       Kolkata Knight Riders  Royal Challengers Bangalore  BB McCullum   \n",
       "...                       ...                          ...          ...   \n",
       "194349    Sunrisers Hyderabad        Kolkata Knight Riders  Abdul Samad   \n",
       "194350    Sunrisers Hyderabad        Kolkata Knight Riders  Abdul Samad   \n",
       "194351    Sunrisers Hyderabad        Kolkata Knight Riders    MK Pandey   \n",
       "194352    Sunrisers Hyderabad        Kolkata Knight Riders  Abdul Samad   \n",
       "194353    Sunrisers Hyderabad        Kolkata Knight Riders    MK Pandey   \n",
       "\n",
       "        non_striker  ... runs_off_bat  extras  wides  noballs  byes  legbyes  \\\n",
       "0       BB McCullum  ...            0       1    0.0      0.0   0.0      1.0   \n",
       "1        SC Ganguly  ...            0       0    0.0      0.0   0.0      0.0   \n",
       "2        SC Ganguly  ...            0       1    1.0      0.0   0.0      0.0   \n",
       "3        SC Ganguly  ...            0       0    0.0      0.0   0.0      0.0   \n",
       "4        SC Ganguly  ...            0       0    0.0      0.0   0.0      0.0   \n",
       "...             ...  ...          ...     ...    ...      ...   ...      ...   \n",
       "194349    MK Pandey  ...            0       0    0.0      0.0   0.0      0.0   \n",
       "194350    MK Pandey  ...            1       0    0.0      0.0   0.0      0.0   \n",
       "194351  Abdul Samad  ...            1       0    0.0      0.0   0.0      0.0   \n",
       "194352    MK Pandey  ...            1       0    0.0      0.0   0.0      0.0   \n",
       "194353  Abdul Samad  ...            6       0    0.0      0.0   0.0      0.0   \n",
       "\n",
       "        wicket_type player_dismissed run  over  \n",
       "0                                      1     0  \n",
       "1                                      0     0  \n",
       "2                                      1     0  \n",
       "3                                      0     0  \n",
       "4                                      0     0  \n",
       "...             ...              ...  ..   ...  \n",
       "194349                                 0    19  \n",
       "194350                                 1    19  \n",
       "194351                                 1    19  \n",
       "194352                                 1    19  \n",
       "194353                                 6    19  \n",
       "\n",
       "[194354 rows x 21 columns]"
      ]
     },
     "execution_count": 3,
     "metadata": {},
     "output_type": "execute_result"
    }
   ],
   "source": [
    "df=pd.read_csv(\"D:/IPL Dataset_1235ce7d-6753-4163-bb5a-512ed7bc0ca4.csv\")\n",
    "df"
   ]
  },
  {
   "cell_type": "code",
   "execution_count": 3,
   "id": "9414c486",
   "metadata": {},
   "outputs": [
    {
     "name": "stdout",
     "output_type": "stream",
     "text": [
      "<class 'pandas.core.frame.DataFrame'>\n",
      "RangeIndex: 194354 entries, 0 to 194353\n",
      "Data columns (total 21 columns):\n",
      " #   Column            Non-Null Count   Dtype  \n",
      "---  ------            --------------   -----  \n",
      " 0   match_id          194354 non-null  int64  \n",
      " 1   season            194354 non-null  int64  \n",
      " 2   start_date        194354 non-null  object \n",
      " 3   venue             194354 non-null  object \n",
      " 4   innings           194354 non-null  int64  \n",
      " 5   ball              194354 non-null  float64\n",
      " 6   batting_team      194354 non-null  object \n",
      " 7   bowling_team      194354 non-null  object \n",
      " 8   striker           194354 non-null  object \n",
      " 9   non_striker       194354 non-null  object \n",
      " 10  bowler            194354 non-null  object \n",
      " 11  runs_off_bat      194354 non-null  int64  \n",
      " 12  extras            194354 non-null  int64  \n",
      " 13  wides             194354 non-null  float64\n",
      " 14  noballs           194354 non-null  float64\n",
      " 15  byes              194354 non-null  float64\n",
      " 16  legbyes           194354 non-null  float64\n",
      " 17  wicket_type       194354 non-null  object \n",
      " 18  player_dismissed  194354 non-null  object \n",
      " 19  run               194354 non-null  int64  \n",
      " 20  over              194354 non-null  int64  \n",
      "dtypes: float64(5), int64(7), object(9)\n",
      "memory usage: 31.1+ MB\n"
     ]
    }
   ],
   "source": [
    "df.info()"
   ]
  },
  {
   "cell_type": "code",
   "execution_count": 4,
   "id": "5e16b3d9",
   "metadata": {},
   "outputs": [
    {
     "data": {
      "text/plain": [
       "array([2008, 2009, 2010, 2011, 2012, 2013, 2014, 2015, 2016, 2017, 2019,\n",
       "       2018, 2020, 2021], dtype=int64)"
      ]
     },
     "execution_count": 4,
     "metadata": {},
     "output_type": "execute_result"
    }
   ],
   "source": [
    "df['season'].unique()"
   ]
  },
  {
   "cell_type": "code",
   "execution_count": 5,
   "id": "2b423cf0",
   "metadata": {},
   "outputs": [
    {
     "data": {
      "text/plain": [
       "match_id                                 335982\n",
       "season                                     2008\n",
       "start_date                           2008-04-18\n",
       "venue                     M.Chinnaswamy Stadium\n",
       "innings                                       1\n",
       "ball                                        0.1\n",
       "batting_team              Kolkata Knight Riders\n",
       "bowling_team        Royal Challengers Bangalore\n",
       "striker                              SC Ganguly\n",
       "non_striker                         BB McCullum\n",
       "bowler                                  P Kumar\n",
       "runs_off_bat                                  0\n",
       "extras                                        1\n",
       "wides                                       0.0\n",
       "noballs                                     0.0\n",
       "byes                                        0.0\n",
       "legbyes                                     1.0\n",
       "wicket_type                                    \n",
       "player_dismissed                               \n",
       "run                                           1\n",
       "over                                          0\n",
       "Name: 0, dtype: object"
      ]
     },
     "execution_count": 5,
     "metadata": {},
     "output_type": "execute_result"
    }
   ],
   "source": [
    "df.iloc[0]"
   ]
  },
  {
   "cell_type": "code",
   "execution_count": null,
   "id": "226c6526",
   "metadata": {},
   "outputs": [],
   "source": []
  },
  {
   "cell_type": "code",
   "execution_count": 8,
   "id": "4ea28327",
   "metadata": {},
   "outputs": [
    {
     "data": {
      "image/png": "[encoded data removed]",
      "text/plain": [
       "<Figure size 1000x800 with 1 Axes>"
      ]
     },
     "metadata": {},
     "output_type": "display_data"
    }
   ],
   "source": [
    "plt.figure(figsize=(10,8))\n",
    "data = df.groupby(['match_id', 'season']).count().index.droplevel(level=0).value_counts().sort_index()\n",
    "sns.barplot(y=data.index, x=data, orient='h')\n",
    "plt.xlabel('Matches Played')\n",
    "plt.ylabel('Season')\n",
    "plt.show()\n"
   ]
  },
  {
   "cell_type": "code",
   "execution_count": 7,
   "id": "1c7a69db",
   "metadata": {},
   "outputs": [
    {
     "data": {
      "text/plain": [
       "venue\n",
       "M.Chinnaswamy Stadium                                   80\n",
       "Eden Gardens                                            77\n",
       "Arun Jaitley Stadium                                    74\n",
       "Wankhede Stadium, Mumbai                                74\n",
       "Rajiv Gandhi International Stadium, Uppal               64\n",
       "MA Chidambaram Stadium, Chepauk, Chennai                59\n",
       "Punjab Cricket Association IS Bindra Stadium, Mohali    56\n",
       "Sawai Mansingh Stadium                                  47\n",
       "Dubai International Cricket Stadium                     33\n",
       "Sheikh Zayed Stadium                                    29\n",
       "Maharashtra Cricket Association Stadium                 21\n",
       "Sharjah Cricket Stadium                                 18\n",
       "Dr DY Patil Sports Academy                              17\n",
       "Subrata Roy Sahara Stadium                              17\n",
       "Kingsmead                                               15\n",
       "Dr. Y.S. Rajasekhara Reddy ACA-VDCA Cricket Stadium     13\n",
       "SuperSport Park                                         12\n",
       "Sardar Patel Stadium, Motera                            12\n",
       "Brabourne Stadium                                       11\n",
       "Saurashtra Cricket Association Stadium                  10\n",
       "Holkar Cricket Stadium                                   9\n",
       "Himachal Pradesh Cricket Association Stadium             9\n",
       "New Wanderers Stadium                                    8\n",
       "JSCA International Stadium Complex                       7\n",
       "Barabati Stadium                                         7\n",
       "St George's Park                                         7\n",
       "Newlands                                                 7\n",
       "Shaheed Veer Narayan Singh International Stadium         6\n",
       "Nehru Stadium                                            5\n",
       "Green Park                                               4\n",
       "Buffalo Park                                             3\n",
       "Vidarbha Cricket Association Stadium, Jamtha             3\n",
       "De Beers Diamond Oval                                    3\n",
       "OUTsurance Oval                                          2\n",
       "Name: count, dtype: int64"
      ]
     },
     "execution_count": 7,
     "metadata": {},
     "output_type": "execute_result"
    }
   ],
   "source": [
    "# Most IPL Matches played oin a venue\n",
    "df.groupby(['venue','match_id' ]).count().droplevel(level=1).index.value_counts()"
   ]
  },
  {
   "cell_type": "markdown",
   "id": "adc59dc3",
   "metadata": {},
   "source": [
    "\n"
   ]
  },
  {
   "cell_type": "code",
   "execution_count": 10,
   "id": "b92a77a0",
   "metadata": {},
   "outputs": [
    {
     "data": {
      "image/png": "[encoded data removed]",
      "text/plain": [
       "<Figure size 1000x800 with 1 Axes>"
      ]
     },
     "metadata": {},
     "output_type": "display_data"
    }
   ],
   "source": [
    "#ipl match played by each team\n",
    "plt.figure(figsize=(10,8))\n",
    "data = df['bowling_team'].value_counts().sort_values(ascending=False)\n",
    "sns.barplot(y=data.index, x=data, orient='h')\n",
    "plt.xlabel('Matches Played')\n",
    "plt.ylabel('Team')\n",
    "plt.show()\n",
    "\n"
   ]
  },
  {
   "cell_type": "code",
   "execution_count": 14,
   "id": "b7f3a9f8",
   "metadata": {},
   "outputs": [
    {
     "data": {
      "text/plain": [
       "batting_team\n",
       "Mumbai Indians                 32488\n",
       "Royal Challengers Bangalore    30415\n",
       "Kings XI Punjab                30064\n",
       "Kolkata Knight Riders          29606\n",
       "Chennai Super Kings            28560\n",
       "Rajasthan Royals               24542\n",
       "Delhi Daredevils               24296\n",
       "Sunrisers Hyderabad            19539\n",
       "Deccan Chargers                11463\n",
       "Pune Warriors                   6358\n",
       "Delhi Capitals                  5499\n",
       "Gujarat Lions                   4862\n",
       "Rising Pune Supergiant          4533\n",
       "Kochi Tuskers Kerala            1901\n",
       "Name: run, dtype: int64"
      ]
     },
     "execution_count": 14,
     "metadata": {},
     "output_type": "execute_result"
    }
   ],
   "source": [
    "#Most run scored by ipl team\n",
    "df.groupby(['batting_team'])['run'].sum().sort_values(ascending=False)"
   ]
  },
  {
   "cell_type": "code",
   "execution_count": 19,
   "id": "2a116bc1",
   "metadata": {},
   "outputs": [
    {
     "data": {
      "image/png": "[encoded data removed]",
      "text/plain": [
       "<Figure size 1000x800 with 1 Axes>"
      ]
     },
     "metadata": {},
     "output_type": "display_data"
    }
   ],
   "source": [
    "# most run by batesman\n",
    "plt.figure(figsize=(10,8))\n",
    "data = df.groupby(['striker'])['runs_off_bat'].sum().sort_values(ascending=False)[:10]\n",
    "sns.barplot(y=data.index, x=data, orient='h')\n",
    "plt.xlabel('Batsman')\n",
    "plt.ylabel('Run')\n",
    "plt.show()\n",
    "\n"
   ]
  },
  {
   "cell_type": "code",
   "execution_count": 23,
   "id": "4e078c3b",
   "metadata": {},
   "outputs": [
    {
     "data": {
      "text/plain": [
       "batting_team\n",
       "Delhi Capitals                 48.176471\n",
       "Sunrisers Hyderabad            47.856000\n",
       "Rising Pune Supergiant         47.433333\n",
       "Kings XI Punjab                47.126316\n",
       "Kolkata Knight Riders          46.409326\n",
       "Delhi Daredevils               45.714286\n",
       "Deccan Chargers                45.560000\n",
       "Mumbai Indians                 45.529412\n",
       "Chennai Super Kings            45.195531\n",
       "Rajasthan Royals               44.912500\n",
       "Royal Challengers Bangalore    44.826531\n",
       "Pune Warriors                  42.111111\n",
       "Name: run, dtype: float64"
      ]
     },
     "execution_count": 23,
     "metadata": {},
     "output_type": "execute_result"
    }
   ],
   "source": [
    "#avg run by Team in powerplay\n",
    "df[df['over']<6].groupby(['match_id','batting_team']).sum()['run'].groupby('batting_team').mean().sort_values(ascending=False)[2:]"
   ]
  },
  {
   "cell_type": "code",
   "execution_count": 25,
   "id": "2d6b711c",
   "metadata": {},
   "outputs": [
    {
     "data": {
      "text/plain": [
       "striker\n",
       "CH Gayle          6\n",
       "V Kohli           5\n",
       "DA Warner         4\n",
       "SR Watson         4\n",
       "AB de Villiers    3\n",
       "HM Amla           2\n",
       "M Vijay           2\n",
       "KL Rahul          2\n",
       "SV Samson         2\n",
       "S Dhawan          2\n",
       "Name: runs_off_bat, dtype: int64"
      ]
     },
     "execution_count": 25,
     "metadata": {},
     "output_type": "execute_result"
    }
   ],
   "source": [
    "#most ipl century by player \n",
    "runs=df.groupby(['striker','match_id'])['runs_off_bat'].sum()\n",
    "runs[runs>=100].droplevel(level=1).groupby('striker').count().sort_values(ascending=False)[:10]"
   ]
  },
  {
   "cell_type": "code",
   "execution_count": 26,
   "id": "6094b8bc",
   "metadata": {},
   "outputs": [
    {
     "data": {
      "image/png": "[encoded data removed]",
      "text/plain": [
       "<Figure size 1000x800 with 1 Axes>"
      ]
     },
     "metadata": {},
     "output_type": "display_data"
    }
   ],
   "source": [
    "# most ipl fifty by player\n",
    "plt.figure(figsize=(10,8))\n",
    "runs = df.groupby(['striker','start_date'])['runs_off_bat'].sum()\n",
    "data=runs[runs>=50].droplevel(level=1).groupby('striker').count().sort_values(ascending=False)[:10]\n",
    "sns.barplot(y=data.index, x=data, orient='h')\n",
    "plt.xlabel('Halfcentury')\n",
    "plt.ylabel('Batsmen')\n",
    "plt.show()\n",
    "\n"
   ]
  },
  {
   "cell_type": "code",
   "execution_count": 27,
   "id": "3137be82",
   "metadata": {},
   "outputs": [
    {
     "data": {
      "text/plain": [
       "striker\n",
       "CH Gayle          17\n",
       "BB McCullum       13\n",
       "CH Gayle          13\n",
       "CH Gayle          12\n",
       "AB de Villiers    12\n",
       "M Vijay           11\n",
       "CH Gayle          11\n",
       "AD Russell        11\n",
       "ST Jayasuriya     11\n",
       "SS Iyer           10\n",
       "Name: season, dtype: int64"
      ]
     },
     "execution_count": 27,
     "metadata": {},
     "output_type": "execute_result"
    }
   ],
   "source": [
    "# most sixes in ipl by player\n",
    "df[df['runs_off_bat']==6].groupby(['start_date','striker']).count()['season'].sort_values(ascending=False).droplevel(level=0)[:10]"
   ]
  },
  {
   "cell_type": "code",
   "execution_count": 4,
   "id": "71ec6121",
   "metadata": {},
   "outputs": [
    {
     "data": {
      "text/plain": [
       "striker\n",
       "A Ashish Reddy     4\n",
       "A Mishra           7\n",
       "A Symonds          6\n",
       "AA Bilakhia        3\n",
       "AA Noffke          1\n",
       "                  ..\n",
       "YK Pathan         32\n",
       "YS Chahal          1\n",
       "YV Takawale        1\n",
       "Yashpal Singh      2\n",
       "Yuvraj Singh      30\n",
       "Name: count, Length: 305, dtype: int64"
      ]
     },
     "execution_count": 4,
     "metadata": {},
     "output_type": "execute_result"
    }
   ],
   "source": [
    "x=df.groupby(['striker','match_id'])['runs_off_bat'].value_counts()\n",
    "x[x==6].groupby('striker').count()"
   ]
  },
  {
   "cell_type": "code",
   "execution_count": 12,
   "id": "cc099836",
   "metadata": {},
   "outputs": [
    {
     "data": {
      "text/plain": [
       "striker\n",
       "NJ Rimmington      1\n",
       "P Dubey            1\n",
       "AS Joseph          1\n",
       "S Tyagi            1\n",
       "DAJ Bracewell      1\n",
       "                ... \n",
       "S Dhawan         325\n",
       "V Kohli          345\n",
       "SK Raina         345\n",
       "RV Uthappa       346\n",
       "RG Sharma        367\n",
       "Name: count, Length: 540, dtype: int64"
      ]
     },
     "execution_count": 12,
     "metadata": {},
     "output_type": "execute_result"
    }
   ],
   "source": [
    "x2 = df.groupby(['match_id', 'striker'])['wicket_type'].value_counts().groupby('striker').count().sort_values()\n",
    "x2\n"
   ]
  },
  {
   "cell_type": "code",
   "execution_count": 13,
   "id": "e3e313c8",
   "metadata": {},
   "outputs": [
    {
     "data": {
      "text/html": [
       "<div>\n",
       "<style scoped>\n",
       "    .dataframe tbody tr th:only-of-type {\n",
       "        vertical-align: middle;\n",
       "    }\n",
       "\n",
       "    .dataframe tbody tr th {\n",
       "        vertical-align: top;\n",
       "    }\n",
       "\n",
       "    .dataframe thead th {\n",
       "        text-align: right;\n",
       "    }\n",
       "</style>\n",
       "<table border=\"1\" class=\"dataframe\">\n",
       "  <thead>\n",
       "    <tr style=\"text-align: right;\">\n",
       "      <th></th>\n",
       "      <th>match_id</th>\n",
       "      <th>season</th>\n",
       "      <th>start_date</th>\n",
       "      <th>venue</th>\n",
       "      <th>innings</th>\n",
       "      <th>ball</th>\n",
       "      <th>batting_team</th>\n",
       "      <th>bowling_team</th>\n",
       "      <th>striker</th>\n",
       "      <th>non_striker</th>\n",
       "      <th>...</th>\n",
       "      <th>runs_off_bat</th>\n",
       "      <th>extras</th>\n",
       "      <th>wides</th>\n",
       "      <th>noballs</th>\n",
       "      <th>byes</th>\n",
       "      <th>legbyes</th>\n",
       "      <th>wicket_type</th>\n",
       "      <th>player_dismissed</th>\n",
       "      <th>run</th>\n",
       "      <th>over</th>\n",
       "    </tr>\n",
       "  </thead>\n",
       "  <tbody>\n",
       "    <tr>\n",
       "      <th>0</th>\n",
       "      <td>335982</td>\n",
       "      <td>2008</td>\n",
       "      <td>2008-04-18</td>\n",
       "      <td>M.Chinnaswamy Stadium</td>\n",
       "      <td>1</td>\n",
       "      <td>0.1</td>\n",
       "      <td>Kolkata Knight Riders</td>\n",
       "      <td>Royal Challengers Bangalore</td>\n",
       "      <td>SC Ganguly</td>\n",
       "      <td>BB McCullum</td>\n",
       "      <td>...</td>\n",
       "      <td>0</td>\n",
       "      <td>1</td>\n",
       "      <td>0.0</td>\n",
       "      <td>0.0</td>\n",
       "      <td>0.0</td>\n",
       "      <td>1.0</td>\n",
       "      <td></td>\n",
       "      <td></td>\n",
       "      <td>1</td>\n",
       "      <td>0</td>\n",
       "    </tr>\n",
       "    <tr>\n",
       "      <th>1</th>\n",
       "      <td>335982</td>\n",
       "      <td>2008</td>\n",
       "      <td>2008-04-18</td>\n",
       "      <td>M.Chinnaswamy Stadium</td>\n",
       "      <td>1</td>\n",
       "      <td>0.2</td>\n",
       "      <td>Kolkata Knight Riders</td>\n",
       "      <td>Royal Challengers Bangalore</td>\n",
       "      <td>BB McCullum</td>\n",
       "      <td>SC Ganguly</td>\n",
       "      <td>...</td>\n",
       "      <td>0</td>\n",
       "      <td>0</td>\n",
       "      <td>0.0</td>\n",
       "      <td>0.0</td>\n",
       "      <td>0.0</td>\n",
       "      <td>0.0</td>\n",
       "      <td></td>\n",
       "      <td></td>\n",
       "      <td>0</td>\n",
       "      <td>0</td>\n",
       "    </tr>\n",
       "    <tr>\n",
       "      <th>2</th>\n",
       "      <td>335982</td>\n",
       "      <td>2008</td>\n",
       "      <td>2008-04-18</td>\n",
       "      <td>M.Chinnaswamy Stadium</td>\n",
       "      <td>1</td>\n",
       "      <td>0.3</td>\n",
       "      <td>Kolkata Knight Riders</td>\n",
       "      <td>Royal Challengers Bangalore</td>\n",
       "      <td>BB McCullum</td>\n",
       "      <td>SC Ganguly</td>\n",
       "      <td>...</td>\n",
       "      <td>0</td>\n",
       "      <td>1</td>\n",
       "      <td>1.0</td>\n",
       "      <td>0.0</td>\n",
       "      <td>0.0</td>\n",
       "      <td>0.0</td>\n",
       "      <td></td>\n",
       "      <td></td>\n",
       "      <td>1</td>\n",
       "      <td>0</td>\n",
       "    </tr>\n",
       "    <tr>\n",
       "      <th>3</th>\n",
       "      <td>335982</td>\n",
       "      <td>2008</td>\n",
       "      <td>2008-04-18</td>\n",
       "      <td>M.Chinnaswamy Stadium</td>\n",
       "      <td>1</td>\n",
       "      <td>0.4</td>\n",
       "      <td>Kolkata Knight Riders</td>\n",
       "      <td>Royal Challengers Bangalore</td>\n",
       "      <td>BB McCullum</td>\n",
       "      <td>SC Ganguly</td>\n",
       "      <td>...</td>\n",
       "      <td>0</td>\n",
       "      <td>0</td>\n",
       "      <td>0.0</td>\n",
       "      <td>0.0</td>\n",
       "      <td>0.0</td>\n",
       "      <td>0.0</td>\n",
       "      <td></td>\n",
       "      <td></td>\n",
       "      <td>0</td>\n",
       "      <td>0</td>\n",
       "    </tr>\n",
       "    <tr>\n",
       "      <th>4</th>\n",
       "      <td>335982</td>\n",
       "      <td>2008</td>\n",
       "      <td>2008-04-18</td>\n",
       "      <td>M.Chinnaswamy Stadium</td>\n",
       "      <td>1</td>\n",
       "      <td>0.5</td>\n",
       "      <td>Kolkata Knight Riders</td>\n",
       "      <td>Royal Challengers Bangalore</td>\n",
       "      <td>BB McCullum</td>\n",
       "      <td>SC Ganguly</td>\n",
       "      <td>...</td>\n",
       "      <td>0</td>\n",
       "      <td>0</td>\n",
       "      <td>0.0</td>\n",
       "      <td>0.0</td>\n",
       "      <td>0.0</td>\n",
       "      <td>0.0</td>\n",
       "      <td></td>\n",
       "      <td></td>\n",
       "      <td>0</td>\n",
       "      <td>0</td>\n",
       "    </tr>\n",
       "  </tbody>\n",
       "</table>\n",
       "<p>5 rows × 21 columns</p>\n",
       "</div>"
      ],
      "text/plain": [
       "   match_id  season  start_date                  venue  innings  ball  \\\n",
       "0    335982    2008  2008-04-18  M.Chinnaswamy Stadium        1   0.1   \n",
       "1    335982    2008  2008-04-18  M.Chinnaswamy Stadium        1   0.2   \n",
       "2    335982    2008  2008-04-18  M.Chinnaswamy Stadium        1   0.3   \n",
       "3    335982    2008  2008-04-18  M.Chinnaswamy Stadium        1   0.4   \n",
       "4    335982    2008  2008-04-18  M.Chinnaswamy Stadium        1   0.5   \n",
       "\n",
       "            batting_team                 bowling_team      striker  \\\n",
       "0  Kolkata Knight Riders  Royal Challengers Bangalore   SC Ganguly   \n",
       "1  Kolkata Knight Riders  Royal Challengers Bangalore  BB McCullum   \n",
       "2  Kolkata Knight Riders  Royal Challengers Bangalore  BB McCullum   \n",
       "3  Kolkata Knight Riders  Royal Challengers Bangalore  BB McCullum   \n",
       "4  Kolkata Knight Riders  Royal Challengers Bangalore  BB McCullum   \n",
       "\n",
       "   non_striker  ... runs_off_bat  extras  wides  noballs  byes  legbyes  \\\n",
       "0  BB McCullum  ...            0       1    0.0      0.0   0.0      1.0   \n",
       "1   SC Ganguly  ...            0       0    0.0      0.0   0.0      0.0   \n",
       "2   SC Ganguly  ...            0       1    1.0      0.0   0.0      0.0   \n",
       "3   SC Ganguly  ...            0       0    0.0      0.0   0.0      0.0   \n",
       "4   SC Ganguly  ...            0       0    0.0      0.0   0.0      0.0   \n",
       "\n",
       "   wicket_type player_dismissed run  over  \n",
       "0                                 1     0  \n",
       "1                                 0     0  \n",
       "2                                 1     0  \n",
       "3                                 0     0  \n",
       "4                                 0     0  \n",
       "\n",
       "[5 rows x 21 columns]"
      ]
     },
     "execution_count": 13,
     "metadata": {},
     "output_type": "execute_result"
    }
   ],
   "source": [
    "df.head()"
   ]
  },
  {
   "cell_type": "code",
   "execution_count": 15,
   "id": "8390c4e4",
   "metadata": {},
   "outputs": [
    {
     "data": {
      "text/plain": [
       "striker\n",
       "S Dhawan          601\n",
       "DA Warner         510\n",
       "V Kohli           510\n",
       "SK Raina          496\n",
       "G Gambhir         492\n",
       "RG Sharma         459\n",
       "RV Uthappa        454\n",
       "AM Rahane         416\n",
       "AB de Villiers    395\n",
       "CH Gayle          387\n",
       "Name: count, dtype: int64"
      ]
     },
     "execution_count": 15,
     "metadata": {},
     "output_type": "execute_result"
    }
   ],
   "source": [
    "#Most four by player\n",
    "data=df[df['runs_off_bat']==4]['striker'].value_counts()[:10]\n",
    "data"
   ]
  },
  {
   "cell_type": "code",
   "execution_count": 16,
   "id": "1e07e7c0",
   "metadata": {},
   "outputs": [
    {
     "data": {
      "text/plain": [
       "striker         season\n",
       "V Kohli         2016      973\n",
       "DA Warner       2016      848\n",
       "KS Williamson   2018      735\n",
       "MEK Hussey      2013      733\n",
       "CH Gayle        2012      733\n",
       "                2013      720\n",
       "DA Warner       2019      692\n",
       "AB de Villiers  2016      687\n",
       "RR Pant         2018      684\n",
       "KL Rahul        2020      676\n",
       "Name: runs_off_bat, dtype: int64"
      ]
     },
     "execution_count": 16,
     "metadata": {},
     "output_type": "execute_result"
    }
   ],
   "source": [
    "# Most run season  by player\n",
    "df.groupby(['striker','season'])['runs_off_bat'].sum().sort_values(ascending=False)[:10]\n"
   ]
  },
  {
   "cell_type": "code",
   "execution_count": 18,
   "id": "499a7e60",
   "metadata": {},
   "outputs": [
    {
     "data": {
      "text/plain": [
       "season\n",
       "2018    872\n",
       "2019    786\n",
       "2020    736\n",
       "2012    733\n",
       "2014    715\n",
       "2017    706\n",
       "2015    692\n",
       "2013    681\n",
       "2011    639\n",
       "2016    639\n",
       "2008    623\n",
       "2010    587\n",
       "2009    508\n",
       "2021     43\n",
       "Name: match_id, dtype: int64"
      ]
     },
     "execution_count": 18,
     "metadata": {},
     "output_type": "execute_result"
    }
   ],
   "source": [
    "#No of sixes in IPL season\n",
    "df[df['runs_off_bat']==6].groupby('season').count()['match_id'].sort_values(ascending=False)"
   ]
  },
  {
   "cell_type": "code",
   "execution_count": 28,
   "id": "eb36dc02",
   "metadata": {},
   "outputs": [
    {
     "ename": "AttributeError",
     "evalue": "'numpy.int64' object has no attribute 'droplevel'",
     "output_type": "error",
     "traceback": [
      "\u001b[1;31m---------------------------------------------------------------------------\u001b[0m",
      "\u001b[1;31mAttributeError\u001b[0m                            Traceback (most recent call last)",
      "Cell \u001b[1;32mIn[28], line 2\u001b[0m\n\u001b[0;32m      1\u001b[0m \u001b[38;5;66;03m#highest total ny IPL team\u001b[39;00m\n\u001b[1;32m----> 2\u001b[0m df\u001b[38;5;241m.\u001b[39mgroupby([\u001b[38;5;124m'\u001b[39m\u001b[38;5;124mstart_date\u001b[39m\u001b[38;5;124m'\u001b[39m,\u001b[38;5;124m'\u001b[39m\u001b[38;5;124mbatting_team\u001b[39m\u001b[38;5;124m'\u001b[39m])\u001b[38;5;241m.\u001b[39msum()[\u001b[38;5;124m'\u001b[39m\u001b[38;5;124mrun\u001b[39m\u001b[38;5;124m'\u001b[39m]\u001b[38;5;241m.\u001b[39msum()\u001b[38;5;241m.\u001b[39mdroplevel(level\u001b[38;5;241m=\u001b[39m\u001b[38;5;241m0\u001b[39m)\u001b[38;5;241m.\u001b[39msort_values(ascending\u001b[38;5;241m=\u001b[39m\u001b[38;5;28;01mFalse\u001b[39;00m)[:\u001b[38;5;241m10\u001b[39m]\n",
      "\u001b[1;31mAttributeError\u001b[0m: 'numpy.int64' object has no attribute 'droplevel'"
     ]
    }
   ],
   "source": [
    "#highest total ny IPL team\n",
    "df.groupby(['start_date','batting_team']).sum()['run'].sum().droplevel(level=0).sort_values(ascending=False)[:10]\n",
    "\n",
    "\n"
   ]
  },
  {
   "cell_type": "code",
   "execution_count": 25,
   "id": "01ae4b2a",
   "metadata": {},
   "outputs": [
    {
     "data": {
      "text/plain": [
       "batting_team\n",
       "Mumbai Indians                 32488\n",
       "Royal Challengers Bangalore    30415\n",
       "Kings XI Punjab                30064\n",
       "Kolkata Knight Riders          29606\n",
       "Chennai Super Kings            28560\n",
       "Rajasthan Royals               24542\n",
       "Delhi Daredevils               24296\n",
       "Sunrisers Hyderabad            19539\n",
       "Deccan Chargers                11463\n",
       "Pune Warriors                   6358\n",
       "Name: run, dtype: int64"
      ]
     },
     "execution_count": 25,
     "metadata": {},
     "output_type": "execute_result"
    }
   ],
   "source": [
    "#Most run by Team\n",
    "result = df.groupby(['start_date', 'batting_team']).agg({'run': 'sum'}).reset_index()\n",
    "result.groupby('batting_team').sum()['run'].sort_values(ascending=False)[:10]\n"
   ]
  },
  {
   "cell_type": "code",
   "execution_count": 26,
   "id": "7c48b36a",
   "metadata": {},
   "outputs": [
    {
     "data": {
      "text/plain": [
       "striker         start_date\n",
       "CH Gayle        2013-04-23    175\n",
       "BB McCullum     2008-04-18    158\n",
       "AB de Villiers  2015-05-10    133\n",
       "KL Rahul        2020-09-24    132\n",
       "AB de Villiers  2016-05-14    129\n",
       "CH Gayle        2012-05-17    128\n",
       "RR Pant         2018-05-10    128\n",
       "M Vijay         2010-04-03    127\n",
       "DA Warner       2017-04-30    126\n",
       "V Sehwag        2014-05-30    122\n",
       "Name: runs_off_bat, dtype: int64"
      ]
     },
     "execution_count": 26,
     "metadata": {},
     "output_type": "execute_result"
    }
   ],
   "source": [
    "#Highest Individual IPL score by striker\n",
    "df.groupby(['striker','start_date'])['runs_off_bat'].sum().sort_values(ascending=False)[:10]"
   ]
  },
  {
   "cell_type": "code",
   "execution_count": 27,
   "id": "3899841e",
   "metadata": {},
   "outputs": [
    {
     "data": {
      "text/plain": [
       "striker\n",
       "CH Gayle          175\n",
       "BB McCullum       158\n",
       "AB de Villiers    133\n",
       "KL Rahul          132\n",
       "AB de Villiers    129\n",
       "CH Gayle          128\n",
       "RR Pant           128\n",
       "M Vijay           127\n",
       "DA Warner         126\n",
       "V Sehwag          122\n",
       "Name: runs_off_bat, dtype: int64"
      ]
     },
     "execution_count": 27,
     "metadata": {},
     "output_type": "execute_result"
    }
   ],
   "source": [
    "#Most run conceded by bowler in a iining\n",
    "df.groupby(['striker','start_date'])['runs_off_bat'].sum().droplevel(level=1).sort_values(ascending=False)[:10]"
   ]
  },
  {
   "cell_type": "code",
   "execution_count": 29,
   "id": "d3f02bd9",
   "metadata": {},
   "outputs": [
    {
     "data": {
      "text/plain": [
       "bowler\n",
       "Harbhajan Singh    1247\n",
       "R Ashwin           1174\n",
       "B Kumar            1165\n",
       "SL Malinga         1144\n",
       "PP Chawla          1137\n",
       "                   ... \n",
       "B Chipli              1\n",
       "RW Price              1\n",
       "RA Shaikh             1\n",
       "Mandeep Singh         1\n",
       "FY Fazal              1\n",
       "Name: match_id, Length: 411, dtype: int64"
      ]
     },
     "execution_count": 29,
     "metadata": {},
     "output_type": "execute_result"
    }
   ],
   "source": [
    "# Most dot ball by bowler\n",
    "df[df['run']==0].groupby('bowler').count()['match_id'].sort_values(ascending=False)\n"
   ]
  },
  {
   "cell_type": "code",
   "execution_count": 47,
   "id": "b150c6c0",
   "metadata": {},
   "outputs": [
    {
     "data": {
      "text/plain": [
       "bowler\n",
       "Harbhajan Singh    3457\n",
       "R Ashwin           3351\n",
       "PP Chawla          3285\n",
       "A Mishra           3251\n",
       "SL Malinga         2974\n",
       "DJ Bravo           2871\n",
       "SP Narine          2830\n",
       "B Kumar            2820\n",
       "RA Jadeja          2771\n",
       "UT Yadav           2648\n",
       "Name: bowling_team, dtype: int64"
      ]
     },
     "execution_count": 47,
     "metadata": {},
     "output_type": "execute_result"
    }
   ],
   "source": [
    "#most wicket by bowler\n",
    "top_bowlers = df.groupby('bowler')['bowling_team'].count().sort_values(ascending=False)[:10]\n",
    "top_bowlers"
   ]
  },
  {
   "cell_type": "code",
   "execution_count": null,
   "id": "3d659e25",
   "metadata": {},
   "outputs": [],
   "source": []
  },
  {
   "cell_type": "code",
   "execution_count": null,
   "id": "3eabf730",
   "metadata": {},
   "outputs": [],
   "source": []
  }
 ],
 "metadata": {
  "kernelspec": {
   "display_name": "Python 3 (ipykernel)",
   "language": "python",
   "name": "python3"
  },
  "language_info": {
   "codemirror_mode": {
    "name": "ipython",
    "version": 3
   },
   "file_extension": ".py",
   "mimetype": "text/x-python",
   "name": "python",
   "nbconvert_exporter": "python",
   "pygments_lexer": "ipython3",
   "version": "3.11.5"
  }
 },
 "nbformat": 4,
 "nbformat_minor": 5
}
